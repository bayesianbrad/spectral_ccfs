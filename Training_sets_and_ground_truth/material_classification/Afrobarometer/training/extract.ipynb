{
 "cells": [
  {
   "cell_type": "code",
   "execution_count": 32,
   "metadata": {},
   "outputs": [
    {
     "name": "stdout",
     "output_type": "stream",
     "text": [
      "/Users/bradley/miniconda3/envs/temp/lib/python3.6/lib-dynload/parser.cpython-36m-darwin.so\n"
     ]
    }
   ],
   "source": [
    "import numpy as np\n",
    "import sys\n",
    "import glob\n",
    "import os\n",
    "cwd = os.getcwd() \n",
    "import parser\n",
    "import pandas as pd\n",
    "print(parser.__file__)\n",
    "\n",
    "npydicts = glob.glob(cwd + '/*.npz')\n",
    "data = {'tiles':0,'thatch':0,'shingles':0,'metal':0,'asbestos':0, 'plastic':0} \n",
    "\n",
    "\n"
   ]
  },
  {
   "cell_type": "code",
   "execution_count": 33,
   "metadata": {},
   "outputs": [],
   "source": [
    "keys = data.keys()\n",
    "keys = sorted(list(keys),reverse=True)\n",
    "\n",
    "for i in range(len(npydicts)):\n",
    "     data[keys[i]] = np.load(npydicts[5-i])['x']\n"
   ]
  },
  {
   "cell_type": "code",
   "execution_count": 34,
   "metadata": {},
   "outputs": [],
   "source": [
    "classes = {'tiles':2,'metal':1,'shingles':3, 'thatch':4,'asbestos':6, 'plastic':5}\n",
    "for key in data:\n",
    "    data[key] = np.hstack((data[key], classes[key]*np.ones((data[key].shape[0],1))))"
   ]
  },
  {
   "cell_type": "code",
   "execution_count": null,
   "metadata": {},
   "outputs": [],
   "source": []
  },
  {
   "cell_type": "code",
   "execution_count": 35,
   "metadata": {},
   "outputs": [],
   "source": [
    "temp = data[keys.pop()]\n",
    "for key in keys:\n",
    "   temp = np.vstack((temp,data[key]))\n"
   ]
  },
  {
   "cell_type": "code",
   "execution_count": 37,
   "metadata": {},
   "outputs": [
    {
     "data": {
      "text/plain": [
       "(1947, 11)"
      ]
     },
     "execution_count": 37,
     "metadata": {},
     "output_type": "execute_result"
    }
   ],
   "source": [
    "np.shape(temp)"
   ]
  },
  {
   "cell_type": "code",
   "execution_count": 39,
   "metadata": {},
   "outputs": [],
   "source": [
    "np.savetxt('all_data.txt',temp)"
   ]
  },
  {
   "cell_type": "code",
   "execution_count": null,
   "metadata": {},
   "outputs": [],
   "source": []
  }
 ],
 "metadata": {
  "kernelspec": {
   "display_name": "Python 3",
   "language": "python",
   "name": "python3"
  },
  "language_info": {
   "codemirror_mode": {
    "name": "ipython",
    "version": 3
   },
   "file_extension": ".py",
   "mimetype": "text/x-python",
   "name": "python",
   "nbconvert_exporter": "python",
   "pygments_lexer": "ipython3",
   "version": "3.6.6"
  }
 },
 "nbformat": 4,
 "nbformat_minor": 2
}
